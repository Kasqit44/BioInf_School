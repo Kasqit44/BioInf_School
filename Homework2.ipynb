{
 "cells": [
  {
   "cell_type": "markdown",
   "metadata": {},
   "source": [
    "Задание 1"
   ]
  },
  {
   "cell_type": "code",
   "execution_count": null,
   "metadata": {},
   "outputs": [],
   "source": [
    "fst_list = []\n",
    "fst_list.append(11)\n",
    "fst_list.append(11.12)\n",
    "fst_list.append('11')\n",
    "print(fst_list)\n",
    "print()\n",
    "snd_list = [1, 7, 'Hi']\n",
    "fst_list.extend(snd_list)\n",
    "print(fst_list)\n",
    "print()\n",
    "\n",
    "fst_list.remove('Hi')\n",
    "print(fst_list)\n",
    "fst_list.remove(fst_list[2])\n",
    "print(fst_list)\n",
    "fst_list[1] = 10\n",
    "print(fst_list)\n",
    "print()\n",
    "\n",
    "i = 0\n",
    "while i<5:\n",
    "    fst_list.append('Yeh')\n",
    "    i += 1\n",
    "cnt = fst_list.count('Yeh')\n",
    "print(f'There are {cnt} elements Yeh in fst_list')\n",
    "ln = len(fst_list)\n",
    "print(f'fst_list has {ln} elements')"
   ]
  },
  {
   "cell_type": "markdown",
   "metadata": {},
   "source": [
    "Задание 2"
   ]
  },
  {
   "cell_type": "code",
   "execution_count": null,
   "metadata": {},
   "outputs": [],
   "source": [
    "fst_tuple = (1, 2.0, 'Bye')\n",
    "snd_tuple = ('but', 'I', 'say', 'hello', '!', '!', '!')\n",
    "fst_tuple = fst_tuple + snd_tuple\n",
    "print(fst_tuple)\n",
    "print()\n",
    "\n",
    "cnt_t = fst_tuple.count('!')\n",
    "print(f'There are {cnt_t} elements ! in fst_tuple')\n",
    "ln_t = len(fst_tuple)\n",
    "print(f'fst_tuple has {ln_t} elements')"
   ]
  },
  {
   "cell_type": "markdown",
   "metadata": {},
   "source": [
    "Задание 3"
   ]
  },
  {
   "cell_type": "code",
   "execution_count": null,
   "metadata": {},
   "outputs": [],
   "source": [
    "friends = ['Zeratul', 'Jim Raynor', 'Sarah Kerrigan', 'Alex007', 'TY', 'sOs', 'Special', 'Rouge', 'Ruff', 'Catz']\n",
    "for friend in friends:\n",
    "    print(f'Hi, {friend}!')\n",
    "print('Hi everyone!')"
   ]
  },
  {
   "cell_type": "markdown",
   "metadata": {},
   "source": [
    "Задание 4"
   ]
  },
  {
   "cell_type": "code",
   "execution_count": null,
   "metadata": {},
   "outputs": [],
   "source": [
    "list_1 = [4, -5, 7.1, - 8.2, 111]\n",
    "list_2 = [-1.3, 11, 2.9, -1.8, 222]\n",
    "list_sum = []\n",
    "for i, number in enumerate(list_1):\n",
    "    summa = number + list_2[i]\n",
    "    list_sum.append(summa)\n",
    "print(list_sum)"
   ]
  },
  {
   "cell_type": "markdown",
   "metadata": {},
   "source": [
    "Задание 5"
   ]
  },
  {
   "cell_type": "code",
   "execution_count": 15,
   "metadata": {},
   "outputs": [
    {
     "name": "stdout",
     "output_type": "stream",
     "text": [
      "Введите поочередно три числа, которые будут соответствовать сторонам вашего треугольника, а я скажу, что он из себя представляет\n",
      "Введите значение стороны номер 1 1\n",
      "Введите значение стороны номер 2 1\n",
      "Введите значение стороны номер 3 1\n",
      "[1, 1, 1]\n",
      "Ваш треугольник равносторонний\n"
     ]
    }
   ],
   "source": [
    "print('Введите поочередно три числа, которые будут соответствовать сторонам вашего треугольника, а я скажу, что он из себя представляет')\n",
    "tr_sides = []\n",
    "i = 1\n",
    "while i < 4:\n",
    "    side = int(input(f'Введите значение стороны номер {i} '))\n",
    "    tr_sides.append(side)\n",
    "    i += 1\n",
    "print(tr_sides)   \n",
    "if tr_sides[0] + tr_sides[1] > tr_sides[2] and tr_sides[0] + tr_sides[2] > tr_sides[1] and tr_sides[1] + tr_sides[2] > tr_sides[0]:\n",
    "    if tr_sides.count(tr_sides[0]) == 3:\n",
    "        print('Ваш треугольник равносторонний')\n",
    "    elif tr_sides.count(tr_sides[0]) == 2 or tr_sides.count(tr_sides[1]) == 2:\n",
    "        print('Ваш треугольник равнобедренный')\n",
    "    else:\n",
    "        print('Ваш треугольник разносторонний')\n",
    "else:\n",
    "    print('Вашего треугольника не существует')"
   ]
  },
  {
   "cell_type": "markdown",
   "metadata": {},
   "source": [
    "Задание 6"
   ]
  },
  {
   "cell_type": "code",
   "execution_count": 16,
   "metadata": {},
   "outputs": [
    {
     "name": "stdout",
     "output_type": "stream",
     "text": [
      "[('monkey', 17), 5, 1]\n"
     ]
    }
   ],
   "source": [
    "elements = [1, 5, ('monkey', 17)]\n",
    "# способ 1\n",
    "print(elements[::-1]) "
   ]
  },
  {
   "cell_type": "code",
   "execution_count": 17,
   "metadata": {},
   "outputs": [
    {
     "name": "stdout",
     "output_type": "stream",
     "text": [
      "[('monkey', 17), 5, 1]\n"
     ]
    }
   ],
   "source": [
    "elements = [1, 5, ('monkey', 17)]\n",
    "# способ 2\n",
    "copy = elements[2]\n",
    "elements[2] = 6\n",
    "elements.sort(reverse = True)\n",
    "elements[0] = copy\n",
    "print(elements)"
   ]
  },
  {
   "cell_type": "code",
   "execution_count": 18,
   "metadata": {},
   "outputs": [
    {
     "name": "stdout",
     "output_type": "stream",
     "text": [
      "[('monkey', 17), 5, 1]\n"
     ]
    }
   ],
   "source": [
    "elements = [1, 5, ('monkey', 17)]\n",
    "# способ 3\n",
    "elements_revers = []\n",
    "for element in elements[::-1]:\n",
    "    elements_revers.append(element)\n",
    "print(elements_revers)"
   ]
  },
  {
   "cell_type": "code",
   "execution_count": 30,
   "metadata": {},
   "outputs": [
    {
     "name": "stdout",
     "output_type": "stream",
     "text": [
      "[('monkey', 17), 5, 1]\n"
     ]
    }
   ],
   "source": [
    "elements = [1, 5, ('monkey', 17)]\n",
    "# способ 4\n",
    "i = 1\n",
    "while i >= 0:\n",
    "    elements.append(elements[i])\n",
    "    elements.remove(elements[i])\n",
    "    i -= 1\n",
    "print(elements)"
   ]
  },
  {
   "cell_type": "markdown",
   "metadata": {},
   "source": [
    "Задание 7"
   ]
  },
  {
   "cell_type": "code",
   "execution_count": 31,
   "metadata": {},
   "outputs": [
    {
     "name": "stdout",
     "output_type": "stream",
     "text": [
      "Сумма чётных чисел в вашей последовательности равна 66\n"
     ]
    }
   ],
   "source": [
    "my_numbers = [1, 4, 5, 11, 21, 22, 32, 6, 2]\n",
    "summa = 0\n",
    "for number in my_numbers:\n",
    "    if number % 2 == 0:\n",
    "        summa += number\n",
    "    else:\n",
    "        continue\n",
    "print(f'Сумма чётных чисел в вашей последовательности равна {summa}')"
   ]
  }
 ],
 "metadata": {
  "kernelspec": {
   "display_name": "Python 3",
   "language": "python",
   "name": "python3"
  },
  "language_info": {
   "codemirror_mode": {
    "name": "ipython",
    "version": 3
   },
   "file_extension": ".py",
   "mimetype": "text/x-python",
   "name": "python",
   "nbconvert_exporter": "python",
   "pygments_lexer": "ipython3",
   "version": "3.7.3"
  }
 },
 "nbformat": 4,
 "nbformat_minor": 2
}
